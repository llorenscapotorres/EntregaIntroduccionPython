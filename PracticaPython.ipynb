{
 "cells": [
  {
   "cell_type": "markdown",
   "metadata": {},
   "source": [
    "Enlace a GitHub:"
   ]
  },
  {
   "cell_type": "markdown",
   "metadata": {},
   "source": [
    "1. Realizar una función que recibe 3 números (d, m, a) que representan una fecha (día,\n",
    "mes y año). El programa debe devolver el día (la fecha) siguiente a la recibida por\n",
    "parámetro. Se debe tener en cuenta los días de cada mes y los años bisiestos."
   ]
  },
  {
   "cell_type": "code",
   "execution_count": 1,
   "metadata": {},
   "outputs": [],
   "source": [
    "def dia_siguiente(d, m, a):\n",
    "    if a % 4 != 0:\n",
    "        if m in [1, 3, 5, 7, 8, 10]:\n",
    "            if d == 31:\n",
    "                return (1, m + 1, a)\n",
    "            else:\n",
    "                return (d + 1, m, a)\n",
    "        elif m in [4, 6, 9, 11]:\n",
    "            if d == 30:\n",
    "                return (1, m + 1, a)\n",
    "            else:\n",
    "                return (d + 1, m, a)\n",
    "        elif m == 2:\n",
    "            if d == 28:\n",
    "                return (1, 3, a)\n",
    "            else:\n",
    "                return (d + 1, 2, a)\n",
    "        elif m == 12:\n",
    "            if d == 31:\n",
    "                return (1, 1, a + 1)\n",
    "            else:\n",
    "                return (d + 1, 12, a)\n",
    "    else:\n",
    "        if m in [1, 3, 5, 7, 8, 10]:\n",
    "            if d == 31:\n",
    "                return (1, m + 1, a)\n",
    "            else:\n",
    "                return (d + 1, m, a)\n",
    "        elif m in [4, 6, 9, 11]:\n",
    "            if d == 30:\n",
    "                return (1, m + 1, a)\n",
    "            else:\n",
    "                return (d + 1, m, a)\n",
    "        elif m == 2:\n",
    "            if d == 29:\n",
    "                return (1, 3, a)\n",
    "            else:\n",
    "                return (d + 1, 2, a)\n",
    "        elif m == 12:\n",
    "            if d == 31:\n",
    "                return (1, 1, a + 1)\n",
    "            else:\n",
    "                return (d + 1, 12, a)"
   ]
  },
  {
   "cell_type": "code",
   "execution_count": 2,
   "metadata": {},
   "outputs": [
    {
     "name": "stdout",
     "output_type": "stream",
     "text": [
      "(29, 2, 2024)\n",
      "(1, 1, 2012)\n",
      "(31, 5, 2013)\n"
     ]
    }
   ],
   "source": [
    "print(dia_siguiente(28, 2, 2024))\n",
    "print(dia_siguiente(31, 12, 2011))\n",
    "print(dia_siguiente(30, 5, 2013))"
   ]
  }
 ],
 "metadata": {
  "kernelspec": {
   "display_name": "Python 3",
   "language": "python",
   "name": "python3"
  },
  "language_info": {
   "codemirror_mode": {
    "name": "ipython",
    "version": 3
   },
   "file_extension": ".py",
   "mimetype": "text/x-python",
   "name": "python",
   "nbconvert_exporter": "python",
   "pygments_lexer": "ipython3",
   "version": "3.12.4"
  }
 },
 "nbformat": 4,
 "nbformat_minor": 2
}
