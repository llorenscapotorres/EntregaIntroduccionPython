{
 "cells": [
  {
   "cell_type": "markdown",
   "metadata": {},
   "source": [
    "Enlace a GitHub:"
   ]
  },
  {
   "cell_type": "markdown",
   "metadata": {},
   "source": [
    "1. Realizar una función que recibe 3 números (d, m, a) que representan una fecha (día,\n",
    "mes y año). El programa debe devolver el día (la fecha) siguiente a la recibida por\n",
    "parámetro. Se debe tener en cuenta los días de cada mes y los años bisiestos."
   ]
  },
  {
   "cell_type": "code",
   "execution_count": 1,
   "metadata": {},
   "outputs": [],
   "source": [
    "def dia_siguiente(d, m, a):\n",
    "    if a % 4 != 0:\n",
    "        if m in [1, 3, 5, 7, 8, 10]:\n",
    "            if d == 31:\n",
    "                return (1, m + 1, a)\n",
    "            else:\n",
    "                return (d + 1, m, a)\n",
    "        elif m in [4, 6, 9, 11]:\n",
    "            if d == 30:\n",
    "                return (1, m + 1, a)\n",
    "            else:\n",
    "                return (d + 1, m, a)\n",
    "        elif m == 2:\n",
    "            if d == 28:\n",
    "                return (1, 3, a)\n",
    "            else:\n",
    "                return (d + 1, 2, a)\n",
    "        elif m == 12:\n",
    "            if d == 31:\n",
    "                return (1, 1, a + 1)\n",
    "            else:\n",
    "                return (d + 1, 12, a)\n",
    "    else:\n",
    "        if m in [1, 3, 5, 7, 8, 10]:\n",
    "            if d == 31:\n",
    "                return (1, m + 1, a)\n",
    "            else:\n",
    "                return (d + 1, m, a)\n",
    "        elif m in [4, 6, 9, 11]:\n",
    "            if d == 30:\n",
    "                return (1, m + 1, a)\n",
    "            else:\n",
    "                return (d + 1, m, a)\n",
    "        elif m == 2:\n",
    "            if d == 29:\n",
    "                return (1, 3, a)\n",
    "            else:\n",
    "                return (d + 1, 2, a)\n",
    "        elif m == 12:\n",
    "            if d == 31:\n",
    "                return (1, 1, a + 1)\n",
    "            else:\n",
    "                return (d + 1, 12, a)"
   ]
  },
  {
   "cell_type": "code",
   "execution_count": 2,
   "metadata": {},
   "outputs": [
    {
     "name": "stdout",
     "output_type": "stream",
     "text": [
      "(29, 2, 2024)\n",
      "(1, 1, 2012)\n",
      "(31, 5, 2013)\n"
     ]
    }
   ],
   "source": [
    "print(dia_siguiente(28, 2, 2024))\n",
    "print(dia_siguiente(31, 12, 2011))\n",
    "print(dia_siguiente(30, 5, 2013))"
   ]
  },
  {
   "cell_type": "markdown",
   "metadata": {},
   "source": [
    "2. Construye un programa que muestre por pantalla cuantas veces aparece cada una\n",
    "de ellas."
   ]
  },
  {
   "cell_type": "code",
   "execution_count": 3,
   "metadata": {},
   "outputs": [],
   "source": [
    "palabras_espanol = [\"Perro\", \"Gato\", \"Casa\", \"Coche\",\n",
    "\"Árbol\", \"Sol\", \"Luna\", \"Mar\", \"Montaña\", \"Río\",\n",
    "\"Playa\", \"Libro\", \"Computadora\", \"Teléfono\",\n",
    "\"Amigo\", \"Familia\", \"Trabajo\", \"Comida\", \"Película\",\n",
    "\"Música\", \"Viaje\", \"Deporte\", \"Juego\", \"Amor\", \"Odio\",\n",
    "\"Felicidad\", \"Tristeza\", \"Alegría\", \"Dolor\", \"Sueño\",\n",
    "\"Noche\", \"Día\", \"Agua\", \"Fuego\", \"Aire\", \"Tierra\",\n",
    "\"Cielo\", \"Estrella\", \"Flor\", \"Fruta\", \"Verdura\",\n",
    "\"Chocolate\", \"Café\", \"Té\", \"Vino\", \"Cerveza\",\n",
    "\"Dinero\", \"Tiempo\", \"Reloj\", \"Reloj\"]\n"
   ]
  },
  {
   "cell_type": "code",
   "execution_count": 4,
   "metadata": {},
   "outputs": [],
   "source": [
    "def veces_palabra(lista_palabras = palabras_espanol):\n",
    "    dicc_palabras = {}\n",
    "    for palabra in palabras_espanol:\n",
    "        if palabra not in dicc_palabras:\n",
    "            dicc_palabras[palabra] = 1\n",
    "        else:\n",
    "            dicc_palabras[palabra] += 1 \n",
    "    return dicc_palabras"
   ]
  },
  {
   "cell_type": "code",
   "execution_count": 6,
   "metadata": {},
   "outputs": [
    {
     "name": "stdout",
     "output_type": "stream",
     "text": [
      "{'Perro': 1, 'Gato': 1, 'Casa': 1, 'Coche': 1, 'Árbol': 1, 'Sol': 1, 'Luna': 1, 'Mar': 1, 'Monta~na': 1, 'Río': 1, 'Playa': 1, 'Libro': 1, 'Computadora': 1, 'Teléfono': 1, 'Amigo': 1, 'Familia': 1, 'Trabajo': 1, 'Comida': 1, 'Película': 1, 'Música': 1, 'Viaje': 1, 'Deporte': 1, 'Juego': 1, 'Amor': 1, 'Odio': 1, 'Felicidad': 1, 'Tristeza': 1, 'Alegría': 1, 'Dolor': 1, 'Sue~no': 1, 'Noche': 1, 'Día': 1, 'Agua': 1, 'Fuego': 1, 'Aire': 1, 'Tierra': 1, 'Cielo': 1, 'Estrella': 1, 'Flor': 1, 'Fruta': 1, 'Verdura': 1, 'Chocolate': 1, 'Café': 1, 'Té': 1, 'Vino': 1, 'Cerveza': 1, 'Dinero': 1, 'Tiempo': 1, 'Reloj': 2}\n"
     ]
    }
   ],
   "source": [
    "print(veces_palabra())"
   ]
  },
  {
   "cell_type": "markdown",
   "metadata": {},
   "source": [
    "3. Responde a las siguientes preguntas:\n",
    "• ¿Cuál es el precio máximo de cada producto?\n",
    "• ¿Cuál es el producto más caro?\n",
    "• ¿Qué día son más caras las naranjas?"
   ]
  },
  {
   "cell_type": "code",
   "execution_count": 7,
   "metadata": {},
   "outputs": [],
   "source": [
    "precio_origen = {\n",
    "\"cebolla\": [30.3, 20.3, 25.9, 39.0], # céntimos/kg\n",
    "\"patata\":[0.33, 0.43, 0.34, 0.12], # euro/kg\n",
    "\"naranja\":[0.45, 0.56, 0.38, 0.43] # euro/kg\n",
    "}"
   ]
  },
  {
   "cell_type": "code",
   "execution_count": 9,
   "metadata": {},
   "outputs": [
    {
     "name": "stdout",
     "output_type": "stream",
     "text": [
      "El precio máximo de la cebolla es:  39.0\n",
      "El precio máximo de la patata es:  0.43\n",
      "El precio máximo de la naranja es:  0.56\n"
     ]
    }
   ],
   "source": [
    "for (producto, precios) in precio_origen.items():\n",
    "    print(f\"El precio máximo de la {producto} es: \", max(precios))"
   ]
  },
  {
   "cell_type": "markdown",
   "metadata": {},
   "source": [
    "Teniendo en cuenta la respuesta anterior, el producto más caro es la naranja, ya que el precio de la cebolla está en céntimos."
   ]
  },
  {
   "cell_type": "code",
   "execution_count": 11,
   "metadata": {},
   "outputs": [
    {
     "name": "stdout",
     "output_type": "stream",
     "text": [
      "El día que más cara fue, fue el día:  2\n"
     ]
    }
   ],
   "source": [
    "for i in range(len(precio_origen[\"naranja\"])):\n",
    "    if precio_origen[\"naranja\"][i] == max(precio_origen[\"naranja\"]):\n",
    "        print(\"El día que más cara fue, fue el día: \", i + 1)"
   ]
  },
  {
   "cell_type": "markdown",
   "metadata": {},
   "source": [
    "Una empresa tiene un inventario de productos con diferentes categorías, y cada producto\n",
    "tiene un precio y una cantidad en stock. El objetivo es gestionar el inventario de forma\n",
    "eficiente. Instrucciones:\n",
    "\n",
    "1. Crea un diccionario donde la clave sea el nombre de una categoría de producto y\n",
    "el valor sea una lista de tuplas. Cada tupla contendrá el nombre del producto, el\n",
    "precio y la cantidad en stock.\n",
    "\n",
    "2. Crea una función que calcule el valor total de inventario por categoría (precio por\n",
    "cantidad para cada producto).\n",
    "\n",
    "3. Muestra la categoría que tiene el valor total más alto en inventario.\n",
    "\n",
    "4. Añade una opción para actualizar el stock de un producto en una categoría específica."
   ]
  },
  {
   "cell_type": "code",
   "execution_count": 18,
   "metadata": {},
   "outputs": [
    {
     "name": "stdout",
     "output_type": "stream",
     "text": [
      "{'limpieza': 64.0, 'comida': 19.12, 'hogar': 95.75}\n",
      "La categoría con más valor es:  hogar\n",
      "{'limpieza': [('KH-7', 5, 2), ('Limpia Cristales', 7.5, 6), ('Don Limpio', 9, 1)], 'comida': [('Garbanzos', 0.98, 10), ('Kit-kat', 2.33, 4), ('Docena de Huevos', 3.13, 4)], 'hogar': [('Mesa', 34.05, 1), ('Silla', 12.34, 5)]}\n"
     ]
    }
   ],
   "source": [
    "inventario = {\"limpieza\": [(\"KH-7\", 5, 2), (\"Limpia Cristales\", 7.5, 6), (\"Don Limpio\", 9, 1)], \n",
    "                    \"comida\": [(\"Garbanzos\", 0.98, 10), (\"Kit-kat\", 2.33, 4)],\n",
    "                    \"hogar\": [(\"Mesa\", 34.05, 1), (\"Silla\", 12.34, 5)]}\n",
    "\n",
    "def valor_total_por_categoria(inventario = inventario):\n",
    "    categoria_valor = {}\n",
    "    for (categoria, info) in inventario.items():\n",
    "        valor = 0\n",
    "        for (producto, precio, numero) in info:\n",
    "            valor += precio * numero\n",
    "        categoria_valor[categoria] = valor\n",
    "    return categoria_valor\n",
    "\n",
    "print(valor_total_por_categoria())\n",
    "\n",
    "for (categoria, total) in valor_total_por_categoria().items():\n",
    "    if valor_total_por_categoria()[categoria] == max(valor_total_por_categoria().values()):\n",
    "        print(\"La categoría con más valor es: \", categoria)\n",
    "\n",
    "def actualizar_stock(categoria, nuevo_stock):\n",
    "    inventario[categoria].append(nuevo_stock)\n",
    "\n",
    "actualizar_stock(\"comida\", (\"Docena de Huevos\", 3.13, 4))\n",
    "print(inventario)"
   ]
  }
 ],
 "metadata": {
  "kernelspec": {
   "display_name": "Python 3",
   "language": "python",
   "name": "python3"
  },
  "language_info": {
   "codemirror_mode": {
    "name": "ipython",
    "version": 3
   },
   "file_extension": ".py",
   "mimetype": "text/x-python",
   "name": "python",
   "nbconvert_exporter": "python",
   "pygments_lexer": "ipython3",
   "version": "3.12.4"
  }
 },
 "nbformat": 4,
 "nbformat_minor": 2
}
